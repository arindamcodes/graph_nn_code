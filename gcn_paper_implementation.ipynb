{
 "cells": [
  {
   "cell_type": "code",
   "execution_count": 1,
   "metadata": {},
   "outputs": [
    {
     "name": "stdout",
     "output_type": "stream",
     "text": [
      "Cora Data(x=[2708, 1433], edge_index=[2, 10556], y=[2708], train_mask=[2708], val_mask=[2708], test_mask=[2708])\n"
     ]
    }
   ],
   "source": [
    "# Load dataset\n",
    "from torch_geometric.datasets import Planetoid\n",
    "dataset = Planetoid(\"./\", \"Cora\")\n",
    "data = dataset[0]\n",
    "print(\"Cora\", data)"
   ]
  },
  {
   "cell_type": "code",
   "execution_count": 2,
   "metadata": {},
   "outputs": [],
   "source": [
    "import torch"
   ]
  },
  {
   "cell_type": "code",
   "execution_count": 3,
   "metadata": {},
   "outputs": [
    {
     "name": "stderr",
     "output_type": "stream",
     "text": [
      "/var/folders/_8/zs41_k7j63x2qgtj1z6fr2v00000gn/T/ipykernel_76917/1014638110.py:2: UserWarning: torch.sparse.SparseTensor(indices, values, *, device=) is deprecated.  Please use torch.sparse_coo_tensor(indices, values, dtype=, device=). (Triggered internally at /Users/runner/work/_temp/anaconda/conda-bld/pytorch_1687072158581/work/torch/csrc/utils/tensor_new.cpp:595.)\n",
      "  A = torch.eye(data.num_nodes) + torch.sparse.FloatTensor(data.edge_index, torch.ones(data.edge_index.shape[1]))\n"
     ]
    },
    {
     "name": "stdout",
     "output_type": "stream",
     "text": [
      "torch.Size([2708, 2708])\n",
      "Intel MKL WARNING: Support of Intel(R) Streaming SIMD Extensions 4.2 (Intel(R) SSE4.2) enabled only processors has been deprecated. Intel oneAPI Math Kernel Library 2025.0 will require Intel(R) Advanced Vector Extensions (Intel(R) AVX) instructions.\n"
     ]
    }
   ],
   "source": [
    "# Implementation of GCN from scratch\n",
    "A = torch.eye(data.num_nodes) + torch.sparse.FloatTensor(data.edge_index, torch.ones(data.edge_index.shape[1]))\n",
    "print(A.shape)\n",
    "degree_hat = A.sum(dim=1).pow(-0.5)\n",
    "D_inv_sqrt = torch.diag(degree_hat)\n",
    "S = D_inv_sqrt.mm(A).mm(D_inv_sqrt)"
   ]
  },
  {
   "cell_type": "code",
   "execution_count": 7,
   "metadata": {},
   "outputs": [],
   "source": [
    "import torch.nn as nn\n",
    "\n",
    "class GCN(nn.Module):\n",
    "\n",
    "    def __init__(self, n_features, n_classes, hidden_size):\n",
    "        super(GCN, self).__init__()\n",
    "        self.linear = nn.Linear(n_features, hidden_size)\n",
    "        self.leaky_relu = nn.LeakyReLU()\n",
    "        self.out = nn.Linear(hidden_size, n_classes)\n",
    "    \n",
    "\n",
    "    def forward(self, x):\n",
    "        x = self.linear(x)\n",
    "        x = S.mm(x)\n",
    "        x = self.leaky_relu(x)\n",
    "        x = self.out(x)\n",
    "        return x\n"
   ]
  },
  {
   "cell_type": "code",
   "execution_count": 8,
   "metadata": {},
   "outputs": [],
   "source": [
    "import torch.optim as optim"
   ]
  },
  {
   "cell_type": "code",
   "execution_count": 11,
   "metadata": {},
   "outputs": [],
   "source": [
    "\n",
    "model = GCN(data.x.shape[1], dataset.num_classes, 125)\n",
    "optimizer = optim.Adam(model.parameters(), lr=0.01, weight_decay=5e-4)\n",
    "criterion = nn.CrossEntropyLoss()"
   ]
  },
  {
   "cell_type": "code",
   "execution_count": 12,
   "metadata": {},
   "outputs": [
    {
     "name": "stderr",
     "output_type": "stream",
     "text": [
      "/Users/arindams_mac_m2_pro/opt/anaconda3/envs/py310/lib/python3.10/site-packages/torch/optim/optimizer.py:243: UserWarning: 'has_cuda' is deprecated, please use 'torch.backends.cuda.is_built()'\n",
      "  if not is_compiling() and torch.has_cuda and torch.cuda.is_available():\n"
     ]
    },
    {
     "name": "stdout",
     "output_type": "stream",
     "text": [
      "Epoch 0, Loss: 1.9501\n",
      "Epoch 10, Loss: 0.0270\n",
      "Epoch 20, Loss: 0.0007\n",
      "Epoch 30, Loss: 0.0013\n",
      "Epoch 40, Loss: 0.0065\n",
      "Epoch 50, Loss: 0.0108\n",
      "Epoch 60, Loss: 0.0087\n",
      "Epoch 70, Loss: 0.0082\n",
      "Epoch 80, Loss: 0.0082\n",
      "Epoch 90, Loss: 0.0077\n",
      "Epoch 100, Loss: 0.0074\n",
      "Epoch 110, Loss: 0.0071\n",
      "Epoch 120, Loss: 0.0068\n",
      "Epoch 130, Loss: 0.0066\n",
      "Epoch 140, Loss: 0.0064\n",
      "Epoch 150, Loss: 0.0063\n",
      "Epoch 160, Loss: 0.0061\n",
      "Epoch 170, Loss: 0.0060\n",
      "Epoch 180, Loss: 0.0059\n",
      "Epoch 190, Loss: 0.0058\n"
     ]
    }
   ],
   "source": [
    "model.train()\n",
    "\n",
    "num_epochs = 200\n",
    "for epoch in range(num_epochs):\n",
    "    optimizer.zero_grad()\n",
    "    out = model(data.x)\n",
    "    loss = criterion(out[data.train_mask], data.y[data.train_mask])\n",
    "    loss.backward()\n",
    "    optimizer.step()\n",
    "    if epoch % 10 == 0:\n",
    "        print(f\"Epoch {epoch}, Loss: {loss:.4f}\")"
   ]
  },
  {
   "cell_type": "code",
   "execution_count": 13,
   "metadata": {},
   "outputs": [
    {
     "name": "stdout",
     "output_type": "stream",
     "text": [
      "Accuracy: 0.7820\n"
     ]
    }
   ],
   "source": [
    "# Model performance\n",
    "model.eval()\n",
    "_, pred = out.max(dim=1)\n",
    "correct = float(pred[data.test_mask].eq(data.y[data.test_mask]).sum().item())\n",
    "acc = correct / data.test_mask.sum().item()\n",
    "print(f\"Accuracy: {acc:.4f}\")"
   ]
  },
  {
   "cell_type": "code",
   "execution_count": null,
   "metadata": {},
   "outputs": [],
   "source": []
  }
 ],
 "metadata": {
  "kernelspec": {
   "display_name": "py310",
   "language": "python",
   "name": "py310"
  },
  "language_info": {
   "codemirror_mode": {
    "name": "ipython",
    "version": 3
   },
   "file_extension": ".py",
   "mimetype": "text/x-python",
   "name": "python",
   "nbconvert_exporter": "python",
   "pygments_lexer": "ipython3",
   "version": "3.10.11"
  }
 },
 "nbformat": 4,
 "nbformat_minor": 2
}
