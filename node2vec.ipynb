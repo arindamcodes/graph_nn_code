{
 "cells": [
  {
   "cell_type": "code",
   "execution_count": 1,
   "metadata": {},
   "outputs": [],
   "source": [
    "import networkx as nx"
   ]
  },
  {
   "cell_type": "code",
   "execution_count": 5,
   "metadata": {},
   "outputs": [
    {
     "name": "stdout",
     "output_type": "stream",
     "text": [
      "Number of nodes (club members) 34\n"
     ]
    }
   ],
   "source": [
    "# Working with karate club datset\n",
    "G = nx.karate_club_graph()\n",
    "print(\"Number of nodes (club members)\", len(G.nodes))"
   ]
  },
  {
   "cell_type": "code",
   "execution_count": 6,
   "metadata": {},
   "outputs": [],
   "source": [
    "# Plot the graph with labels\n",
    "# There are two labels for this dataset\n",
    "# 1. officer 2. Mr.Hi\n",
    "labels = []\n",
    "for n in G.nodes:\n",
    "    club_name = G.nodes[n]['club']\n",
    "    labels.append(1 if club_name == \"Officer\" else 0)"
   ]
  },
  {
   "cell_type": "code",
   "execution_count": 8,
   "metadata": {},
   "outputs": [],
   "source": [
    "import numpy as np"
   ]
  },
  {
   "cell_type": "code",
   "execution_count": 9,
   "metadata": {},
   "outputs": [],
   "source": [
    "# Node2Vec is almost similar to DeepWalk \n",
    "# Only difference is Node2Vec has biased random walk\n",
    "\n",
    "def biased_random_walk(graph, node, walk_length, p, q):\n",
    "    walk = [node]\n",
    "\n",
    "    for _ in range(walk_length-1):\n",
    "        neighbors = list(graph.neighbors(walk[-1]))\n",
    "\n",
    "\n",
    "        if len(neighbors) == 0:\n",
    "            break\n",
    "\n",
    "        if np.random.uniform(0, 1) < p:  # Exploration\n",
    "            random_node = np.random.choice(neighbors)\n",
    "        elif np.random.uniform(0, 1) < p + q: # Exploitation\n",
    "            random_node = walk[-1]\n",
    "        \n",
    "        walk.append(random_node)\n",
    "    return walk"
   ]
  },
  {
   "cell_type": "code",
   "execution_count": 13,
   "metadata": {},
   "outputs": [],
   "source": [
    "def generate_all_walks(graph, num_walks, walk_length, p, q):\n",
    "    walks = []\n",
    "    nodes = list(graph.nodes())\n",
    "    for _ in range(num_walks):\n",
    "        np.random.shuffle(nodes)\n",
    "        for node in nodes:\n",
    "            walks.append(biased_random_walk(graph, node, walk_length, p, q))\n",
    "    return walks"
   ]
  },
  {
   "cell_type": "code",
   "execution_count": 24,
   "metadata": {},
   "outputs": [],
   "source": [
    "walks = generate_all_walks(G, num_walks=10, walk_length=20, p=0.5, q=0.5)"
   ]
  },
  {
   "cell_type": "code",
   "execution_count": 25,
   "metadata": {},
   "outputs": [],
   "source": [
    "from gensim.models import Word2Vec"
   ]
  },
  {
   "cell_type": "code",
   "execution_count": 26,
   "metadata": {},
   "outputs": [],
   "source": [
    "#Learning embeding with Word2Vec model\n",
    "# In order to learn embeddings we need to convert the walks in list of strings\n",
    "\n",
    "def learn_embeddings(walks, dimensions, window_size, workers=4):\n",
    "    walks = [[str(node) for node in walk] for walk in walks]\n",
    "    model = Word2Vec(walks, vector_size=dimensions, window=window_size, min_count=0, sg=1, workers=workers)\n",
    "    return model"
   ]
  },
  {
   "cell_type": "code",
   "execution_count": 27,
   "metadata": {},
   "outputs": [],
   "source": [
    "model = learn_embeddings(walks, dimensions=64, window_size=5)\n",
    "# Extracting embeddings from the model\n",
    "embeddings = np.array([model.wv[str(node)] for node in G.nodes()])"
   ]
  },
  {
   "cell_type": "code",
   "execution_count": 28,
   "metadata": {},
   "outputs": [
    {
     "name": "stdout",
     "output_type": "stream",
     "text": [
      "low dim in shape (34, 2)\n"
     ]
    }
   ],
   "source": [
    "# Visualizing the embeddings in low dim\n",
    "import sklearn\n",
    "from sklearn import decomposition\n",
    "import matplotlib.pyplot as plt\n",
    "\n",
    "pca_model = decomposition.PCA(2)\n",
    "low_dim_embed = pca_model.fit_transform(embeddings)\n",
    "print(\"low dim in shape\", low_dim_embed.shape)"
   ]
  },
  {
   "cell_type": "code",
   "execution_count": 29,
   "metadata": {},
   "outputs": [
    {
     "data": {
      "text/plain": [
       "<matplotlib.collections.PathCollection at 0x7fa8f997b790>"
      ]
     },
     "execution_count": 29,
     "metadata": {},
     "output_type": "execute_result"
    },
    {
     "data": {
      "image/png": "[encoded data removed]",
      "text/plain": [
       "<Figure size 640x480 with 1 Axes>"
      ]
     },
     "metadata": {},
     "output_type": "display_data"
    }
   ],
   "source": [
    "plt.scatter(low_dim_embed[:, 0], low_dim_embed[:, 1], c=labels, \n",
    "            s=15, cmap=\"coolwarm\")"
   ]
  },
  {
   "cell_type": "code",
   "execution_count": 30,
   "metadata": {},
   "outputs": [],
   "source": [
    "# Next we will do the node classification with logistic regression\n",
    "from sklearn.model_selection import train_test_split\n",
    "from sklearn.linear_model import LogisticRegression\n",
    "from sklearn.metrics import roc_auc_score"
   ]
  },
  {
   "cell_type": "code",
   "execution_count": 31,
   "metadata": {},
   "outputs": [
    {
     "name": "stdout",
     "output_type": "stream",
     "text": [
      "AUC 1.0\n"
     ]
    }
   ],
   "source": [
    "x_train, x_test, y_train, y_test = train_test_split(embeddings, labels, test_size=0.3)\n",
    "clf_model = LogisticRegression(random_state=0).fit(x_train, y_train)\n",
    "y_predict = clf_model.predict(x_test)\n",
    "\n",
    "auc = roc_auc_score(y_test, y_predict)\n",
    "print(\"AUC\", auc)"
   ]
  },
  {
   "cell_type": "code",
   "execution_count": 32,
   "metadata": {},
   "outputs": [],
   "source": [
    "# Using high level API's from torch_geometric to test Node2Vec\n"
   ]
  },
  {
   "cell_type": "code",
   "execution_count": 36,
   "metadata": {},
   "outputs": [],
   "source": [
    "import torch\n",
    "from torch_geometric.nn import Node2Vec"
   ]
  },
  {
   "cell_type": "code",
   "execution_count": 34,
   "metadata": {},
   "outputs": [],
   "source": [
    "# Cora data prep from torch_geometric\n",
    "from torch_geometric.datasets import Planetoid"
   ]
  },
  {
   "cell_type": "code",
   "execution_count": 35,
   "metadata": {},
   "outputs": [
    {
     "name": "stderr",
     "output_type": "stream",
     "text": [
      "Downloading https://github.com/kimiyoung/planetoid/raw/master/data/ind.cora.x\n",
      "Downloading https://github.com/kimiyoung/planetoid/raw/master/data/ind.cora.tx\n",
      "Downloading https://github.com/kimiyoung/planetoid/raw/master/data/ind.cora.allx\n",
      "Downloading https://github.com/kimiyoung/planetoid/raw/master/data/ind.cora.y\n",
      "Downloading https://github.com/kimiyoung/planetoid/raw/master/data/ind.cora.ty\n",
      "Downloading https://github.com/kimiyoung/planetoid/raw/master/data/ind.cora.ally\n",
      "Downloading https://github.com/kimiyoung/planetoid/raw/master/data/ind.cora.graph\n",
      "Downloading https://github.com/kimiyoung/planetoid/raw/master/data/ind.cora.test.index\n"
     ]
    },
    {
     "name": "stdout",
     "output_type": "stream",
     "text": [
      "Cora Data(x=[2708, 1433], edge_index=[2, 10556], y=[2708], train_mask=[2708], val_mask=[2708], test_mask=[2708])\n"
     ]
    },
    {
     "name": "stderr",
     "output_type": "stream",
     "text": [
      "Processing...\n",
      "Done!\n"
     ]
    }
   ],
   "source": [
    "dataset = Planetoid(\"./\", \"Cora\")\n",
    "data = dataset[0]\n",
    "print(\"Cora\", data)"
   ]
  },
  {
   "cell_type": "code",
   "execution_count": 44,
   "metadata": {},
   "outputs": [],
   "source": [
    "# Node2Vec in torch\n",
    "device = \"cpu\" # Currently pytorch_geometric dont support \"mps\"\n",
    "Node2Vec_model = Node2Vec(data.edge_index,\n",
    "                          embedding_dim=64,\n",
    "                          walk_length=20,\n",
    "                          context_size=10,\n",
    "                          walks_per_node=10,\n",
    "                          num_negative_samples=1,\n",
    "                          p=1,\n",
    "                          q=1,\n",
    "                          sparse=True).to(device)\n",
    "\n",
    "loader = Node2Vec_model.loader(batch_size=128,\n",
    "                               shuffle=True,\n",
    "                               num_workers=4)"
   ]
  },
  {
   "cell_type": "code",
   "execution_count": 45,
   "metadata": {},
   "outputs": [
    {
     "name": "stdout",
     "output_type": "stream",
     "text": [
      "Epoch: 1, Loss: 5.5305\n",
      "Epoch: 2, Loss: 4.0377\n",
      "Epoch: 3, Loss: 3.1661\n",
      "Epoch: 4, Loss: 2.5984\n",
      "Epoch: 5, Loss: 2.1866\n",
      "Epoch: 6, Loss: 1.8755\n",
      "Epoch: 7, Loss: 1.6455\n",
      "Epoch: 8, Loss: 1.4674\n",
      "Epoch: 9, Loss: 1.3294\n",
      "Epoch: 10, Loss: 1.2308\n",
      "Epoch: 11, Loss: 1.1519\n",
      "Epoch: 12, Loss: 1.0923\n",
      "Epoch: 13, Loss: 1.0447\n",
      "Epoch: 14, Loss: 1.0123\n",
      "Epoch: 15, Loss: 0.9831\n",
      "Epoch: 16, Loss: 0.9608\n",
      "Epoch: 17, Loss: 0.9444\n",
      "Epoch: 18, Loss: 0.9289\n",
      "Epoch: 19, Loss: 0.9180\n",
      "Epoch: 20, Loss: 0.9069\n",
      "Epoch: 21, Loss: 0.8990\n",
      "Epoch: 22, Loss: 0.8915\n",
      "Epoch: 23, Loss: 0.8844\n",
      "Epoch: 24, Loss: 0.8801\n",
      "Epoch: 25, Loss: 0.8743\n",
      "Epoch: 26, Loss: 0.8709\n",
      "Epoch: 27, Loss: 0.8661\n",
      "Epoch: 28, Loss: 0.8648\n",
      "Epoch: 29, Loss: 0.8612\n",
      "Epoch: 30, Loss: 0.8564\n",
      "Epoch: 31, Loss: 0.8556\n",
      "Epoch: 32, Loss: 0.8531\n",
      "Epoch: 33, Loss: 0.8519\n",
      "Epoch: 34, Loss: 0.8500\n",
      "Epoch: 35, Loss: 0.8488\n",
      "Epoch: 36, Loss: 0.8480\n",
      "Epoch: 37, Loss: 0.8455\n",
      "Epoch: 38, Loss: 0.8450\n",
      "Epoch: 39, Loss: 0.8432\n",
      "Epoch: 40, Loss: 0.8425\n",
      "Epoch: 41, Loss: 0.8413\n",
      "Epoch: 42, Loss: 0.8412\n",
      "Epoch: 43, Loss: 0.8397\n",
      "Epoch: 44, Loss: 0.8389\n",
      "Epoch: 45, Loss: 0.8381\n",
      "Epoch: 46, Loss: 0.8389\n",
      "Epoch: 47, Loss: 0.8372\n",
      "Epoch: 48, Loss: 0.8359\n",
      "Epoch: 49, Loss: 0.8356\n",
      "Epoch: 50, Loss: 0.8354\n",
      "Epoch: 51, Loss: 0.8356\n",
      "Epoch: 52, Loss: 0.8347\n",
      "Epoch: 53, Loss: 0.8341\n",
      "Epoch: 54, Loss: 0.8340\n",
      "Epoch: 55, Loss: 0.8341\n",
      "Epoch: 56, Loss: 0.8329\n",
      "Epoch: 57, Loss: 0.8319\n",
      "Epoch: 58, Loss: 0.8323\n",
      "Epoch: 59, Loss: 0.8323\n",
      "Epoch: 60, Loss: 0.8326\n",
      "Epoch: 61, Loss: 0.8322\n",
      "Epoch: 62, Loss: 0.8319\n",
      "Epoch: 63, Loss: 0.8317\n",
      "Epoch: 64, Loss: 0.8301\n",
      "Epoch: 65, Loss: 0.8312\n",
      "Epoch: 66, Loss: 0.8301\n",
      "Epoch: 67, Loss: 0.8299\n",
      "Epoch: 68, Loss: 0.8310\n",
      "Epoch: 69, Loss: 0.8306\n",
      "Epoch: 70, Loss: 0.8299\n",
      "Epoch: 71, Loss: 0.8306\n",
      "Epoch: 72, Loss: 0.8301\n",
      "Epoch: 73, Loss: 0.8298\n",
      "Epoch: 74, Loss: 0.8297\n",
      "Epoch: 75, Loss: 0.8292\n",
      "Epoch: 76, Loss: 0.8290\n",
      "Epoch: 77, Loss: 0.8287\n",
      "Epoch: 78, Loss: 0.8278\n",
      "Epoch: 79, Loss: 0.8283\n",
      "Epoch: 80, Loss: 0.8280\n",
      "Epoch: 81, Loss: 0.8284\n",
      "Epoch: 82, Loss: 0.8285\n",
      "Epoch: 83, Loss: 0.8281\n",
      "Epoch: 84, Loss: 0.8274\n",
      "Epoch: 85, Loss: 0.8287\n",
      "Epoch: 86, Loss: 0.8280\n",
      "Epoch: 87, Loss: 0.8287\n",
      "Epoch: 88, Loss: 0.8303\n",
      "Epoch: 89, Loss: 0.8287\n",
      "Epoch: 90, Loss: 0.8289\n",
      "Epoch: 91, Loss: 0.8279\n",
      "Epoch: 92, Loss: 0.8274\n",
      "Epoch: 93, Loss: 0.8267\n",
      "Epoch: 94, Loss: 0.8287\n",
      "Epoch: 95, Loss: 0.8276\n",
      "Epoch: 96, Loss: 0.8282\n",
      "Epoch: 97, Loss: 0.8280\n",
      "Epoch: 98, Loss: 0.8275\n",
      "Epoch: 99, Loss: 0.8271\n",
      "Epoch: 100, Loss: 0.8273\n"
     ]
    }
   ],
   "source": [
    "# Training\n",
    "optimizer = torch.optim.SparseAdam(list(Node2Vec_model.parameters()),\n",
    "                                   lr=0.01)\n",
    "def train():\n",
    "    Node2Vec_model.train()\n",
    "    total_loss = 0\n",
    "\n",
    "\n",
    "    for pos_rw, neg_rw in loader:\n",
    "        optimizer.zero_grad()\n",
    "        loss = Node2Vec_model.loss(pos_rw, neg_rw)\n",
    "        loss.backward()\n",
    "        optimizer.step()\n",
    "\n",
    "        total_loss += loss.item()\n",
    "    return total_loss / len(loader)\n",
    "\n",
    "\n",
    "for epoch in range(1, 101):\n",
    "    loss = train()\n",
    "    print(f'Epoch: {epoch}, Loss: {loss:.4f}')\n"
   ]
  },
  {
   "cell_type": "code",
   "execution_count": 38,
   "metadata": {},
   "outputs": [],
   "source": [
    "from sklearn.manifold import TSNE"
   ]
  },
  {
   "cell_type": "code",
   "execution_count": 46,
   "metadata": {},
   "outputs": [],
   "source": [
    "# Plotting the data\n",
    "def plot_points(colors):\n",
    "    Node2Vec_model.eval()\n",
    "    with torch.no_grad():\n",
    "        z = Node2Vec_model(torch.arange(data.num_nodes, device=device))\n",
    "    z = TSNE(n_components=2).fit_transform(z.cpu().numpy())\n",
    "    y = data.y.cpu().numpy()\n",
    "    plt.figure()\n",
    "    for i in range(dataset.num_classes):\n",
    "        plt.scatter(z[y==i, 0], \n",
    "                    z[y==i, 1],\n",
    "                    s=20,\n",
    "                    color=colors[i]\n",
    "                    )\n",
    "    plt.axis(\"off\")\n",
    "    plt.show()"
   ]
  },
  {
   "cell_type": "code",
   "execution_count": 47,
   "metadata": {},
   "outputs": [
    {
     "data": {
      "image/png": "[encoded data removed]",
      "text/plain": [
       "<Figure size 640x480 with 1 Axes>"
      ]
     },
     "metadata": {},
     "output_type": "display_data"
    }
   ],
   "source": [
    "colors = [\n",
    "    '#ffc0cb', '#bada55', '#008080', '#420420', '#7fe5f0', '#065535', '#ffd700'\n",
    "]\n",
    "plot_points(colors)"
   ]
  },
  {
   "cell_type": "code",
   "execution_count": 49,
   "metadata": {},
   "outputs": [
    {
     "name": "stdout",
     "output_type": "stream",
     "text": [
      "Accuracy:  0.7330\n"
     ]
    }
   ],
   "source": [
    "# Node classification\n",
    "def test():\n",
    "    Node2Vec_model.eval()\n",
    "    z = Node2Vec_model()\n",
    "    acc = Node2Vec_model.test(z[data.train_mask], data.y[data.train_mask],\n",
    "                              z[data.test_mask], data.y[data.test_mask],\n",
    "                               max_iter=150)\n",
    "    return acc\n",
    "\n",
    "print(f\"Accuracy: {test(): .4f}\")"
   ]
  },
  {
   "cell_type": "code",
   "execution_count": 50,
   "metadata": {},
   "outputs": [],
   "source": [
    "torch.save(Node2Vec_model.state_dict(), 'node2vec_model.pth')"
   ]
  },
  {
   "cell_type": "code",
   "execution_count": null,
   "metadata": {},
   "outputs": [],
   "source": []
  }
 ],
 "metadata": {
  "kernelspec": {
   "display_name": "py310",
   "language": "python",
   "name": "py310"
  },
  "language_info": {
   "codemirror_mode": {
    "name": "ipython",
    "version": 3
   },
   "file_extension": ".py",
   "mimetype": "text/x-python",
   "name": "python",
   "nbconvert_exporter": "python",
   "pygments_lexer": "ipython3",
   "version": "3.10.11"
  }
 },
 "nbformat": 4,
 "nbformat_minor": 2
}
