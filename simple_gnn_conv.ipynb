{
 "cells": [
  {
   "cell_type": "code",
   "execution_count": 1,
   "metadata": {},
   "outputs": [],
   "source": [
    "from torch_geometric.datasets import Planetoid"
   ]
  },
  {
   "cell_type": "code",
   "execution_count": 2,
   "metadata": {},
   "outputs": [
    {
     "name": "stdout",
     "output_type": "stream",
     "text": [
      "Cora Data(x=[2708, 1433], edge_index=[2, 10556], y=[2708], train_mask=[2708], val_mask=[2708], test_mask=[2708])\n"
     ]
    }
   ],
   "source": [
    "# Load the dataset\n",
    "dataset = Planetoid(\"./\", \"Cora\")\n",
    "data = dataset[0]\n",
    "print(\"Cora\", data)"
   ]
  },
  {
   "cell_type": "code",
   "execution_count": 3,
   "metadata": {},
   "outputs": [],
   "source": [
    "import torch\n",
    "from sklearn.manifold import TSNE\n",
    "import matplotlib.pyplot as plt\n"
   ]
  },
  {
   "cell_type": "code",
   "execution_count": 16,
   "metadata": {},
   "outputs": [],
   "source": [
    "# We will implement SGCN from scrath using just torch"
   ]
  },
  {
   "cell_type": "code",
   "execution_count": 17,
   "metadata": {},
   "outputs": [
    {
     "data": {
      "text/plain": [
       "torch.Size([2708, 2708])"
      ]
     },
     "execution_count": 17,
     "metadata": {},
     "output_type": "execute_result"
    }
   ],
   "source": [
    "# Adjacency matrix\n",
    "A = torch.eye(data.num_nodes) + torch.sparse.FloatTensor(data.edge_index, torch.ones(data.edge_index.shape[1]))\n",
    "A.shape "
   ]
  },
  {
   "cell_type": "code",
   "execution_count": 23,
   "metadata": {},
   "outputs": [],
   "source": [
    "# According to the original paper we are implementing the S\n",
    "degree_hat = A.sum(dim=1).pow(-0.5)\n",
    "D_inv_sqrt = torch.diag(degree_hat)\n",
    "S = D_inv_sqrt.mm(A).mm(D_inv_sqrt)"
   ]
  },
  {
   "cell_type": "code",
   "execution_count": 24,
   "metadata": {},
   "outputs": [],
   "source": [
    "# Graph propagation\n",
    "def graph_propagate(x, S, K): \n",
    "    # x --> features vector\n",
    "    # s --> simple conv operation\n",
    "    # K hops or number of times we want to do the operation\n",
    "    for _ in range(K):\n",
    "        x = torch.mm(S, x)\n",
    "    return x"
   ]
  },
  {
   "cell_type": "code",
   "execution_count": 35,
   "metadata": {},
   "outputs": [],
   "source": [
    "# Model implementationl\n",
    "import torch.nn as nn\n",
    "class SGC(nn.Module):\n",
    "\n",
    "    def __init__(self, n_features, n_classes):\n",
    "        super(SGC, self).__init__()\n",
    "        self.weight = nn.Parameter(torch.FloatTensor(n_features, n_classes))\n",
    "        self.reset_parameters()\n",
    "    \n",
    "    def reset_parameters(self):\n",
    "        nn.init.xavier_uniform_(self.weight)\n",
    "    \n",
    "    def forward(self, x):\n",
    "        return torch.mm(x, self.weight)"
   ]
  },
  {
   "cell_type": "code",
   "execution_count": 36,
   "metadata": {},
   "outputs": [],
   "source": [
    "# Performing simple conv operation before passing to main model\n",
    "K = 2  \n",
    "preprocessed_features = graph_propagate(data.x, S, K)"
   ]
  },
  {
   "cell_type": "code",
   "execution_count": 37,
   "metadata": {},
   "outputs": [],
   "source": [
    "import torch.optim as optim\n",
    "model = SGC(preprocessed_features.size(1), dataset.num_classes)\n",
    "optimizer = optim.Adam(model.parameters(), lr=0.01, weight_decay=5e-4)\n",
    "criterion = nn.CrossEntropyLoss()"
   ]
  },
  {
   "cell_type": "code",
   "execution_count": 38,
   "metadata": {},
   "outputs": [
    {
     "name": "stderr",
     "output_type": "stream",
     "text": [
      "/Users/arindams_mac_m2_pro/opt/anaconda3/envs/py310/lib/python3.10/site-packages/torch/optim/optimizer.py:243: UserWarning: 'has_cuda' is deprecated, please use 'torch.backends.cuda.is_built()'\n",
      "  if not is_compiling() and torch.has_cuda and torch.cuda.is_available():\n"
     ]
    },
    {
     "name": "stdout",
     "output_type": "stream",
     "text": [
      "Epoch 0, Loss: 1.9550\n",
      "Epoch 10, Loss: 0.9269\n",
      "Epoch 20, Loss: 0.4479\n",
      "Epoch 30, Loss: 0.2556\n",
      "Epoch 40, Loss: 0.1748\n",
      "Epoch 50, Loss: 0.1389\n",
      "Epoch 60, Loss: 0.1218\n",
      "Epoch 70, Loss: 0.1129\n",
      "Epoch 80, Loss: 0.1072\n",
      "Epoch 90, Loss: 0.1029\n",
      "Epoch 100, Loss: 0.0991\n",
      "Epoch 110, Loss: 0.0957\n",
      "Epoch 120, Loss: 0.0925\n",
      "Epoch 130, Loss: 0.0897\n",
      "Epoch 140, Loss: 0.0871\n",
      "Epoch 150, Loss: 0.0849\n",
      "Epoch 160, Loss: 0.0829\n",
      "Epoch 170, Loss: 0.0811\n",
      "Epoch 180, Loss: 0.0795\n",
      "Epoch 190, Loss: 0.0781\n"
     ]
    }
   ],
   "source": [
    "model.train()\n",
    "\n",
    "num_epochs = 200\n",
    "for epoch in range(num_epochs):\n",
    "    optimizer.zero_grad()\n",
    "    out = model(preprocessed_features)\n",
    "    loss = criterion(out[data.train_mask], data.y[data.train_mask])\n",
    "    loss.backward()\n",
    "    optimizer.step()\n",
    "    if epoch % 10 == 0:\n",
    "        print(f\"Epoch {epoch}, Loss: {loss:.4f}\")\n"
   ]
  },
  {
   "cell_type": "code",
   "execution_count": 40,
   "metadata": {},
   "outputs": [
    {
     "name": "stdout",
     "output_type": "stream",
     "text": [
      "Accuracy: 0.8000\n"
     ]
    }
   ],
   "source": [
    "# Model performance\n",
    "model.eval()\n",
    "_, pred = out.max(dim=1)\n",
    "correct = float(pred[data.test_mask].eq(data.y[data.test_mask]).sum().item())\n",
    "acc = correct / data.test_mask.sum().item()\n",
    "print(f\"Accuracy: {acc:.4f}\")"
   ]
  },
  {
   "cell_type": "code",
   "execution_count": 42,
   "metadata": {},
   "outputs": [
    {
     "data": {
      "text/plain": [
       "torch.Size([2708, 7])"
      ]
     },
     "execution_count": 42,
     "metadata": {},
     "output_type": "execute_result"
    }
   ],
   "source": [
    "out.shape"
   ]
  },
  {
   "cell_type": "code",
   "execution_count": 43,
   "metadata": {},
   "outputs": [],
   "source": [
    "## Will do the above using torch_geometric now"
   ]
  },
  {
   "cell_type": "code",
   "execution_count": 44,
   "metadata": {},
   "outputs": [],
   "source": [
    "from torch_geometric.nn import SGConv"
   ]
  },
  {
   "cell_type": "code",
   "execution_count": 53,
   "metadata": {},
   "outputs": [],
   "source": [
    "#SGC net \n",
    "class SGCNet(nn.Module):\n",
    "\n",
    "    def __init__(self, n_features, n_classes, K):\n",
    "        super(SGCNet, self).__init__()\n",
    "        self.conv = SGConv(n_features, \n",
    "                           n_classes, \n",
    "                           K=K, \n",
    "                           cached=True)\n",
    "    \n",
    "    def forward(self, data):\n",
    "        x, edge_index = data.x, data.edge_index\n",
    "        x = self.conv(x, edge_index)\n",
    "        return x\n",
    "\n"
   ]
  },
  {
   "cell_type": "code",
   "execution_count": 54,
   "metadata": {},
   "outputs": [],
   "source": [
    "# Initialize and train the model\n",
    "model_tg = SGCNet(dataset.num_features, dataset.num_classes, K=2)\n",
    "optimizer_tg = optim.Adam(model_tg.parameters(), lr=0.01, weight_decay=5e-4)\n",
    "criterion_tg = torch.nn.CrossEntropyLoss()\n"
   ]
  },
  {
   "cell_type": "code",
   "execution_count": 55,
   "metadata": {},
   "outputs": [
    {
     "name": "stdout",
     "output_type": "stream",
     "text": [
      "Epoch 0, Loss: 1.9431\n",
      "Epoch 10, Loss: 0.9182\n",
      "Epoch 20, Loss: 0.4431\n",
      "Epoch 30, Loss: 0.2523\n",
      "Epoch 40, Loss: 0.1721\n",
      "Epoch 50, Loss: 0.1366\n",
      "Epoch 60, Loss: 0.1197\n",
      "Epoch 70, Loss: 0.1109\n",
      "Epoch 80, Loss: 0.1054\n",
      "Epoch 90, Loss: 0.1012\n",
      "Epoch 100, Loss: 0.0975\n",
      "Epoch 110, Loss: 0.0941\n",
      "Epoch 120, Loss: 0.0911\n",
      "Epoch 130, Loss: 0.0883\n",
      "Epoch 140, Loss: 0.0858\n",
      "Epoch 150, Loss: 0.0836\n",
      "Epoch 160, Loss: 0.0816\n",
      "Epoch 170, Loss: 0.0799\n",
      "Epoch 180, Loss: 0.0783\n",
      "Epoch 190, Loss: 0.0769\n"
     ]
    }
   ],
   "source": [
    "model_tg.train()\n",
    "for epoch in range(200):\n",
    "    optimizer_tg.zero_grad()\n",
    "    out_tg = model_tg(data)\n",
    "    loss = criterion_tg(out_tg[data.train_mask], data.y[data.train_mask])\n",
    "    loss.backward()\n",
    "    optimizer_tg.step()\n",
    "    if epoch % 10 == 0:\n",
    "        print(f\"Epoch {epoch}, Loss: {loss:.4f}\")"
   ]
  },
  {
   "cell_type": "code",
   "execution_count": 56,
   "metadata": {},
   "outputs": [
    {
     "name": "stdout",
     "output_type": "stream",
     "text": [
      "Accuracy: 0.7990\n"
     ]
    }
   ],
   "source": [
    "# Model performace\n",
    "model_tg.eval()\n",
    "_, pred = out_tg.max(dim=1)\n",
    "correct = float(pred[data.test_mask].eq(data.y[data.test_mask]).sum().item())\n",
    "acc = correct / data.test_mask.sum().item()\n",
    "print(f\"Accuracy: {acc:.4f}\")"
   ]
  },
  {
   "cell_type": "code",
   "execution_count": null,
   "metadata": {},
   "outputs": [],
   "source": []
  }
 ],
 "metadata": {
  "kernelspec": {
   "display_name": "py310",
   "language": "python",
   "name": "py310"
  },
  "language_info": {
   "codemirror_mode": {
    "name": "ipython",
    "version": 3
   },
   "file_extension": ".py",
   "mimetype": "text/x-python",
   "name": "python",
   "nbconvert_exporter": "python",
   "pygments_lexer": "ipython3",
   "version": "3.10.11"
  }
 },
 "nbformat": 4,
 "nbformat_minor": 2
}
