{
 "cells": [
  {
   "cell_type": "code",
   "execution_count": 4,
   "metadata": {},
   "outputs": [],
   "source": [
    "import torch\n",
    "import numpy as np"
   ]
  },
  {
   "cell_type": "code",
   "execution_count": 3,
   "metadata": {},
   "outputs": [
    {
     "data": {
      "text/plain": [
       "tensor([[0, 0, 0, 1, 2, 2, 3, 3],\n",
       "        [1, 2, 3, 0, 0, 3, 2, 0]])"
      ]
     },
     "execution_count": 3,
     "metadata": {},
     "output_type": "execute_result"
    }
   ],
   "source": [
    "# Define a graph\n",
    "\n",
    "# A graph with 4 nodes\n",
    "edge_list = torch.tensor([\n",
    "    [0, 0, 0, 1, 2, 2, 3, 3], # source node\n",
    "    [1, 2, 3, 0, 0, 3, 2, 0]  # Target node\n",
    "\n",
    "],\n",
    "dtype=torch.long)\n",
    "\n",
    "\n",
    "edge_list"
   ]
  },
  {
   "cell_type": "code",
   "execution_count": 8,
   "metadata": {},
   "outputs": [
    {
     "data": {
      "text/plain": [
       "tensor([[ 4, -5,  7,  4,  8, -5],\n",
       "        [ 8, -8,  6, -3, -5, -4],\n",
       "        [ 1, -2,  1,  7,  5, -4],\n",
       "        [ 1, -5,  3,  4,  1, -4]])"
      ]
     },
     "execution_count": 8,
     "metadata": {},
     "output_type": "execute_result"
    }
   ],
   "source": [
    "# Six features for each node (4 x 6)\n",
    "\n",
    "node_features = torch.tensor([\n",
    "    np.random.randint(-10, 10, size=(6, )), # features of node 0\n",
    "    np.random.randint(-10, 10, size=(6, )), # features of node 1\n",
    "    np.random.randint(-10, 10, size=(6, )), # features of node 2\n",
    "    np.random.randint(-10, 10, size=(6, )), # features of node 3\n",
    "],\n",
    "dtype=torch.long)\n",
    "\n",
    "node_features"
   ]
  },
  {
   "cell_type": "code",
   "execution_count": 9,
   "metadata": {},
   "outputs": [
    {
     "data": {
      "text/plain": [
       "tensor([[35],\n",
       "        [45],\n",
       "        [12],\n",
       "        [10],\n",
       "        [70],\n",
       "        [ 5],\n",
       "        [15],\n",
       "        [ 8]])"
      ]
     },
     "execution_count": 9,
     "metadata": {},
     "output_type": "execute_result"
    }
   ],
   "source": [
    "# 1 weight for each edge\n",
    "edge_weight = torch.tensor([\n",
    "    [35.], # weight fo nodes  (0, 1)\n",
    "    [45.], # weight for nodes (0, 2)\n",
    "    [12.], # weight for nodes (0, 3)\n",
    "    [10.], # weight for nodes (1, 0)\n",
    "    [70.], # weight for nodes (2, 0)\n",
    "    [5.], # weight for nodes (2, 3)\n",
    "    [15.], # weight for nodes (3, 2)\n",
    "    [8.], # weight for nodes (3, 0)\n",
    "],\n",
    "dtype=torch.long)\n",
    "\n",
    "edge_weight"
   ]
  },
  {
   "cell_type": "code",
   "execution_count": 10,
   "metadata": {},
   "outputs": [],
   "source": [
    "from torch_geometric.data import Data"
   ]
  },
  {
   "cell_type": "code",
   "execution_count": 11,
   "metadata": {},
   "outputs": [],
   "source": [
    "# Make a data object to store graph information\n",
    "\n",
    "data = Data(x=node_features, \n",
    "            edge_index=edge_list, \n",
    "            edge_attr=edge_weight)"
   ]
  },
  {
   "cell_type": "code",
   "execution_count": 12,
   "metadata": {},
   "outputs": [
    {
     "name": "stdout",
     "output_type": "stream",
     "text": [
      "Number of nodes 4\n",
      "Number of edges 8\n",
      "Number of features per node 6\n",
      "Number of weights per edge (edge features) 1\n"
     ]
    }
   ],
   "source": [
    "# Print the graph info\n",
    "print(\"Number of nodes\", data.num_nodes)\n",
    "print(\"Number of edges\", data.num_edges)\n",
    "print(\"Number of features per node\", data.num_node_features)\n",
    "print(\"Number of weights per edge (edge features)\", data.num_edge_features)\n"
   ]
  },
  {
   "cell_type": "code",
   "execution_count": 13,
   "metadata": {},
   "outputs": [],
   "source": [
    "from torch_geometric.utils.convert import to_networkx\n",
    "import networkx as nx\n"
   ]
  },
  {
   "cell_type": "code",
   "execution_count": 14,
   "metadata": {},
   "outputs": [
    {
     "data": {
      "image/png": "[encoded data removed]",
      "text/plain": [
       "<Figure size 640x480 with 1 Axes>"
      ]
     },
     "metadata": {},
     "output_type": "display_data"
    }
   ],
   "source": [
    "# Plot the graph\n",
    "\n",
    "G = to_networkx(data)\n",
    "nx.draw_networkx(G)"
   ]
  },
  {
   "cell_type": "code",
   "execution_count": null,
   "metadata": {},
   "outputs": [],
   "source": []
  }
 ],
 "metadata": {
  "kernelspec": {
   "display_name": "py310",
   "language": "python",
   "name": "py310"
  },
  "language_info": {
   "codemirror_mode": {
    "name": "ipython",
    "version": 3
   },
   "file_extension": ".py",
   "mimetype": "text/x-python",
   "name": "python",
   "nbconvert_exporter": "python",
   "pygments_lexer": "ipython3",
   "version": "3.10.11"
  }
 },
 "nbformat": 4,
 "nbformat_minor": 2
}
